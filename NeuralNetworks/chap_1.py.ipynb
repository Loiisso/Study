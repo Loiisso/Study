{
 "cells": [
  {
   "cell_type": "code",
   "execution_count": 1,
   "metadata": {
    "collapsed": false
   },
   "outputs": [],
   "source": [
    "import sys\n",
    "sys.path.append(\"modules/\")\n",
    "\n",
    "import numpy as np\n",
    "import pandas\n",
    "import mnst_loader\n",
    "import network"
   ]
  },
  {
   "cell_type": "code",
   "execution_count": 2,
   "metadata": {
    "collapsed": false
   },
   "outputs": [],
   "source": [
    "training_data, validation_data, test_data = mnst_loader.load_data_wrapper()"
   ]
  },
  {
   "cell_type": "code",
   "execution_count": 16,
   "metadata": {
    "collapsed": false
   },
   "outputs": [
    {
     "name": "stdout",
     "output_type": "stream",
     "text": [
      "50000\n"
     ]
    }
   ],
   "source": [
    "print len(training_data)"
   ]
  },
  {
   "cell_type": "code",
   "execution_count": 19,
   "metadata": {
    "collapsed": false
   },
   "outputs": [
    {
     "name": "stdout",
     "output_type": "stream",
     "text": [
      "2\n",
      "784\n",
      "10\n"
     ]
    }
   ],
   "source": [
    "print len(training_data[0])\n",
    "print len(training_data[0][0])\n",
    "print (len(training_data[0][1]))"
   ]
  },
  {
   "cell_type": "code",
   "execution_count": 21,
   "metadata": {
    "collapsed": false
   },
   "outputs": [
    {
     "name": "stdout",
     "output_type": "stream",
     "text": [
      "[[ 0.]\n",
      " [ 0.]\n",
      " [ 0.]\n",
      " [ 0.]\n",
      " [ 0.]\n",
      " [ 1.]\n",
      " [ 0.]\n",
      " [ 0.]\n",
      " [ 0.]\n",
      " [ 0.]]\n"
     ]
    },
    {
     "data": {
      "text/plain": [
       "numpy.ndarray"
      ]
     },
     "execution_count": 21,
     "metadata": {},
     "output_type": "execute_result"
    }
   ],
   "source": [
    "print training_data[0][1]\n",
    "type(training_data[0][1])"
   ]
  },
  {
   "cell_type": "code",
   "execution_count": 22,
   "metadata": {
    "collapsed": true
   },
   "outputs": [],
   "source": [
    "net = network.Network([784, 30, 10])"
   ]
  },
  {
   "cell_type": "code",
   "execution_count": 23,
   "metadata": {
    "collapsed": false
   },
   "outputs": [
    {
     "name": "stdout",
     "output_type": "stream",
     "text": [
      "Epoch 0: 8308 / 10000\n",
      "Epoch 1: 9200 / 10000\n",
      "Epoch 2: 9277 / 10000\n",
      "Epoch 3: 9269 / 10000\n",
      "Epoch 4: 9395 / 10000\n",
      "Epoch 5: 9376 / 10000\n",
      "Epoch 6: 9364 / 10000\n",
      "Epoch 7: 9408 / 10000\n",
      "Epoch 8: 9412 / 10000\n",
      "Epoch 9: 9441 / 10000\n",
      "Epoch 10: 9419 / 10000\n",
      "Epoch 11: 9418 / 10000\n",
      "Epoch 12: 9463 / 10000\n",
      "Epoch 13: 9452 / 10000\n",
      "Epoch 14: 9470 / 10000\n",
      "Epoch 15: 9486 / 10000\n",
      "Epoch 16: 9491 / 10000\n",
      "Epoch 17: 9481 / 10000\n",
      "Epoch 18: 9484 / 10000\n",
      "Epoch 19: 9489 / 10000\n",
      "Epoch 20: 9502 / 10000\n",
      "Epoch 21: 9505 / 10000\n",
      "Epoch 22: 9513 / 10000\n",
      "Epoch 23: 9507 / 10000\n",
      "Epoch 24: 9502 / 10000\n",
      "Epoch 25: 9520 / 10000\n",
      "Epoch 26: 9524 / 10000\n",
      "Epoch 27: 9522 / 10000\n",
      "Epoch 28: 9529 / 10000\n",
      "Epoch 29: 9524 / 10000\n"
     ]
    }
   ],
   "source": [
    "net.SGD(training_data, 30, 10, 3.0, test_data=test_data)"
   ]
  },
  {
   "cell_type": "code",
   "execution_count": 24,
   "metadata": {
    "collapsed": true
   },
   "outputs": [],
   "source": [
    "netSimple = network.Network([784, 10])"
   ]
  },
  {
   "cell_type": "code",
   "execution_count": 25,
   "metadata": {
    "collapsed": false
   },
   "outputs": [
    {
     "name": "stdout",
     "output_type": "stream",
     "text": [
      "Epoch 0: 5110 / 10000\n",
      "Epoch 1: 5990 / 10000\n",
      "Epoch 2: 6776 / 10000\n",
      "Epoch 3: 7622 / 10000\n",
      "Epoch 4: 8258 / 10000\n",
      "Epoch 5: 8305 / 10000\n",
      "Epoch 6: 8357 / 10000\n",
      "Epoch 7: 9008 / 10000\n",
      "Epoch 8: 9103 / 10000\n",
      "Epoch 9: 9088 / 10000\n",
      "Epoch 10: 9161 / 10000\n",
      "Epoch 11: 9162 / 10000\n",
      "Epoch 12: 9151 / 10000\n",
      "Epoch 13: 9160 / 10000\n",
      "Epoch 14: 9152 / 10000\n",
      "Epoch 15: 9147 / 10000\n",
      "Epoch 16: 9133 / 10000\n",
      "Epoch 17: 9168 / 10000\n",
      "Epoch 18: 9154 / 10000\n",
      "Epoch 19: 9159 / 10000\n",
      "Epoch 20: 9160 / 10000\n",
      "Epoch 21: 9115 / 10000\n",
      "Epoch 22: 9151 / 10000\n",
      "Epoch 23: 9151 / 10000\n",
      "Epoch 24: 9169 / 10000\n",
      "Epoch 25: 9155 / 10000\n",
      "Epoch 26: 9144 / 10000\n",
      "Epoch 27: 9170 / 10000\n",
      "Epoch 28: 9172 / 10000\n",
      "Epoch 29: 9148 / 10000\n"
     ]
    }
   ],
   "source": [
    "netSimple.SGD(training_data, 30, 10, 3.0, test_data=test_data)"
   ]
  },
  {
   "cell_type": "code",
   "execution_count": 26,
   "metadata": {
    "collapsed": true
   },
   "outputs": [],
   "source": [
    "netComplex = network.Network([784, 30, 30, 10])"
   ]
  },
  {
   "cell_type": "code",
   "execution_count": 27,
   "metadata": {
    "collapsed": false
   },
   "outputs": [
    {
     "name": "stdout",
     "output_type": "stream",
     "text": [
      "Epoch 0: 8999 / 10000\n",
      "Epoch 1: 9211 / 10000\n",
      "Epoch 2: 9285 / 10000\n",
      "Epoch 3: 9366 / 10000\n",
      "Epoch 4: 9376 / 10000\n",
      "Epoch 5: 9477 / 10000\n",
      "Epoch 6: 9430 / 10000\n",
      "Epoch 7: 9448 / 10000\n",
      "Epoch 8: 9433 / 10000\n",
      "Epoch 9: 9488 / 10000\n",
      "Epoch 10: 9468 / 10000\n",
      "Epoch 11: 9427 / 10000\n",
      "Epoch 12: 9494 / 10000\n",
      "Epoch 13: 9459 / 10000\n",
      "Epoch 14: 9517 / 10000\n",
      "Epoch 15: 9513 / 10000\n",
      "Epoch 16: 9468 / 10000\n",
      "Epoch 17: 9516 / 10000\n",
      "Epoch 18: 9526 / 10000\n",
      "Epoch 19: 9540 / 10000\n",
      "Epoch 20: 9544 / 10000\n",
      "Epoch 21: 9529 / 10000\n",
      "Epoch 22: 9514 / 10000\n",
      "Epoch 23: 9545 / 10000\n",
      "Epoch 24: 9489 / 10000\n",
      "Epoch 25: 9495 / 10000\n",
      "Epoch 26: 9548 / 10000\n",
      "Epoch 27: 9539 / 10000\n",
      "Epoch 28: 9533 / 10000\n",
      "Epoch 29: 9548 / 10000\n"
     ]
    }
   ],
   "source": [
    "netComplex.SGD(training_data, 30, 10, 3.0, test_data=test_data)"
   ]
  },
  {
   "cell_type": "code",
   "execution_count": 13,
   "metadata": {
    "collapsed": true
   },
   "outputs": [],
   "source": []
  },
  {
   "cell_type": "code",
   "execution_count": null,
   "metadata": {
    "collapsed": true
   },
   "outputs": [],
   "source": []
  }
 ],
 "metadata": {
  "kernelspec": {
   "display_name": "Python 2",
   "language": "python",
   "name": "python2"
  },
  "language_info": {
   "codemirror_mode": {
    "name": "ipython",
    "version": 2
   },
   "file_extension": ".py",
   "mimetype": "text/x-python",
   "name": "python",
   "nbconvert_exporter": "python",
   "pygments_lexer": "ipython2",
   "version": "2.7.11"
  }
 },
 "nbformat": 4,
 "nbformat_minor": 0
}
