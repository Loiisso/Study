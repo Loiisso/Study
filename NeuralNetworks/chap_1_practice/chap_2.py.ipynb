{
 "cells": [
  {
   "cell_type": "code",
   "execution_count": 1,
   "metadata": {
    "collapsed": true
   },
   "outputs": [],
   "source": [
    "#TODO: can backpropagation be done on a mini batch backwards?\n",
    "\n",
    "import sys\n",
    "sys.path.append(\"modules/\")\n",
    "\n",
    "import numpy as np\n",
    "import pandas\n",
    "import mnst_loader\n",
    "import random\n",
    "import network as network_slow\n",
    "import network_fast as network_fast\n",
    "import time"
   ]
  },
  {
   "cell_type": "code",
   "execution_count": 2,
   "metadata": {
    "collapsed": true
   },
   "outputs": [],
   "source": [
    "training_data, validation_data, test_data = mnst_loader.load_data_wrapper()"
   ]
  },
  {
   "cell_type": "code",
   "execution_count": 3,
   "metadata": {
    "collapsed": false
   },
   "outputs": [
    {
     "data": {
      "text/plain": [
       "array([[-1.04855297, -1.42001794, -1.70627019, ...,  0.0114989 ,\n",
       "        -0.83767804, -0.5911831 ],\n",
       "       [-0.66772029,  0.3269626 ,  0.33003511, ...,  0.53197464,\n",
       "         1.26056885, -0.1003935 ],\n",
       "       [-0.40034882, -1.47232293,  0.91320192, ...,  0.85766191,\n",
       "        -0.1105905 , -0.43243198],\n",
       "       ..., \n",
       "       [-0.43080335,  1.03231667,  0.73088655, ..., -1.01408644,\n",
       "        -0.07573872,  1.15838216],\n",
       "       [-0.53847126, -0.94804899,  0.96941176, ...,  0.44558136,\n",
       "        -1.10915225,  0.68330795],\n",
       "       [-0.11539176, -1.42997683, -2.43065469, ...,  0.75760907,\n",
       "        -1.23893074,  0.60514814]])"
      ]
     },
     "execution_count": 3,
     "metadata": {},
     "output_type": "execute_result"
    }
   ],
   "source": [
    "np.random.seed(0)\n",
    "random.seed(0)\n",
    "net_slow = network_slow.Network([784, 30, 10])\n",
    "net_slow.weights[0]"
   ]
  },
  {
   "cell_type": "code",
   "execution_count": 4,
   "metadata": {
    "collapsed": false,
    "scrolled": true
   },
   "outputs": [
    {
     "data": {
      "text/plain": [
       "array([[-1.04855297, -1.42001794, -1.70627019, ...,  0.0114989 ,\n",
       "        -0.83767804, -0.5911831 ],\n",
       "       [-0.66772029,  0.3269626 ,  0.33003511, ...,  0.53197464,\n",
       "         1.26056885, -0.1003935 ],\n",
       "       [-0.40034882, -1.47232293,  0.91320192, ...,  0.85766191,\n",
       "        -0.1105905 , -0.43243198],\n",
       "       ..., \n",
       "       [-0.43080335,  1.03231667,  0.73088655, ..., -1.01408644,\n",
       "        -0.07573872,  1.15838216],\n",
       "       [-0.53847126, -0.94804899,  0.96941176, ...,  0.44558136,\n",
       "        -1.10915225,  0.68330795],\n",
       "       [-0.11539176, -1.42997683, -2.43065469, ...,  0.75760907,\n",
       "        -1.23893074,  0.60514814]])"
      ]
     },
     "execution_count": 4,
     "metadata": {},
     "output_type": "execute_result"
    }
   ],
   "source": [
    "np.random.seed(0)\n",
    "random.seed(0)\n",
    "net_fast = network_fast.Network([784, 30, 10])\n",
    "net_fast.weights[0]"
   ]
  },
  {
   "cell_type": "code",
   "execution_count": null,
   "metadata": {
    "collapsed": false
   },
   "outputs": [
    {
     "name": "stdout",
     "output_type": "stream",
     "text": [
      "Epoch 0: 7357 / 10000\n",
      "Epoch 1: 9167 / 10000"
     ]
    }
   ],
   "source": [
    "start = time.time()\n",
    "net_fast.SGD(training_data, 30, 10, 3.0, test_data=test_data)\n",
    "end = time.time()\n",
    "print(end - start)"
   ]
  },
  {
   "cell_type": "code",
   "execution_count": null,
   "metadata": {
    "collapsed": false
   },
   "outputs": [],
   "source": [
    "start = time.time()\n",
    "net_slow.SGD(training_data, 30, 10, 3.0, test_data=test_data)\n",
    "end = time.time()\n",
    "print(end - start)"
   ]
  },
  {
   "cell_type": "code",
   "execution_count": null,
   "metadata": {
    "collapsed": true
   },
   "outputs": [],
   "source": []
  }
 ],
 "metadata": {
  "kernelspec": {
   "display_name": "Python 2",
   "language": "python",
   "name": "python2"
  },
  "language_info": {
   "codemirror_mode": {
    "name": "ipython",
    "version": 2
   },
   "file_extension": ".py",
   "mimetype": "text/x-python",
   "name": "python",
   "nbconvert_exporter": "python",
   "pygments_lexer": "ipython2",
   "version": "2.7.11"
  }
 },
 "nbformat": 4,
 "nbformat_minor": 0
}
