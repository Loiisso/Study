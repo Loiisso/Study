{
 "cells": [
  {
   "cell_type": "code",
   "execution_count": 1,
   "metadata": {
    "collapsed": false
   },
   "outputs": [],
   "source": [
    "import sys\n",
    "sys.path.append(\"modules/\")\n",
    "\n",
    "from IPython.core.debugger import Tracer\n",
    "import numpy as np\n",
    "import pandas\n",
    "import mnst_loader\n",
    "import network"
   ]
  },
  {
   "cell_type": "code",
   "execution_count": 2,
   "metadata": {
    "collapsed": false
   },
   "outputs": [],
   "source": [
    "training_data, validation_data, test_data = mnst_loader.load_data_wrapper()"
   ]
  },
  {
   "cell_type": "code",
   "execution_count": 3,
   "metadata": {
    "collapsed": false
   },
   "outputs": [
    {
     "name": "stdout",
     "output_type": "stream",
     "text": [
      "50000\n"
     ]
    }
   ],
   "source": [
    "print len(training_data)"
   ]
  },
  {
   "cell_type": "code",
   "execution_count": 4,
   "metadata": {
    "collapsed": false
   },
   "outputs": [
    {
     "name": "stdout",
     "output_type": "stream",
     "text": [
      "2\n",
      "784\n",
      "10\n"
     ]
    }
   ],
   "source": [
    "print len(training_data[0])\n",
    "print len(training_data[0][0])\n",
    "print (len(training_data[0][1]))"
   ]
  },
  {
   "cell_type": "code",
   "execution_count": 5,
   "metadata": {
    "collapsed": false
   },
   "outputs": [
    {
     "name": "stdout",
     "output_type": "stream",
     "text": [
      "[[ 0.]\n",
      " [ 0.]\n",
      " [ 0.]\n",
      " [ 0.]\n",
      " [ 0.]\n",
      " [ 1.]\n",
      " [ 0.]\n",
      " [ 0.]\n",
      " [ 0.]\n",
      " [ 0.]]\n"
     ]
    },
    {
     "data": {
      "text/plain": [
       "numpy.ndarray"
      ]
     },
     "execution_count": 5,
     "metadata": {},
     "output_type": "execute_result"
    }
   ],
   "source": [
    "print training_data[0][1]\n",
    "type(training_data[0][1])"
   ]
  },
  {
   "cell_type": "code",
   "execution_count": 6,
   "metadata": {
    "collapsed": true
   },
   "outputs": [],
   "source": [
    "net = network.Network([784, 30, 10])"
   ]
  },
  {
   "cell_type": "code",
   "execution_count": 7,
   "metadata": {
    "collapsed": false
   },
   "outputs": [
    {
     "name": "stdout",
     "output_type": "stream",
     "text": [
      "Epoch 0: 9075 / 10000\n",
      "Epoch 1: 9181 / 10000\n",
      "Epoch 2: 9284 / 10000\n",
      "Epoch 3: 9333 / 10000\n",
      "Epoch 4: 9377 / 10000\n",
      "Epoch 5: 9324 / 10000\n",
      "Epoch 6: 9403 / 10000\n",
      "Epoch 7: 9423 / 10000\n",
      "Epoch 8: 9431 / 10000\n",
      "Epoch 9: 9391 / 10000\n",
      "Epoch 10: 9430 / 10000\n",
      "Epoch 11: 9464 / 10000\n",
      "Epoch 12: 9447 / 10000\n",
      "Epoch 13: 9464 / 10000\n",
      "Epoch 14: 9456 / 10000\n",
      "Epoch 15: 9444 / 10000\n",
      "Epoch 16: 9466 / 10000\n",
      "Epoch 17: 9431 / 10000\n",
      "Epoch 18: 9460 / 10000\n",
      "Epoch 19: 9478 / 10000\n",
      "Epoch 20: 9457 / 10000\n",
      "Epoch 21: 9479 / 10000\n",
      "Epoch 22: 9480 / 10000\n",
      "Epoch 23: 9465 / 10000\n",
      "Epoch 24: 9471 / 10000\n",
      "Epoch 25: 9477 / 10000\n",
      "Epoch 26: 9475 / 10000\n",
      "Epoch 27: 9489 / 10000\n",
      "Epoch 28: 9474 / 10000\n",
      "Epoch 29: 9490 / 10000\n"
     ]
    }
   ],
   "source": [
    "net.SGD(training_data, 30, 10, 3.0, test_data=test_data)"
   ]
  },
  {
   "cell_type": "code",
   "execution_count": null,
   "metadata": {
    "collapsed": true
   },
   "outputs": [],
   "source": [
    "netSimple = network.Network([784, 10])"
   ]
  },
  {
   "cell_type": "code",
   "execution_count": null,
   "metadata": {
    "collapsed": false
   },
   "outputs": [],
   "source": [
    "netSimple.SGD(training_data, 30, 10, 3.0, test_data=test_data)"
   ]
  },
  {
   "cell_type": "code",
   "execution_count": null,
   "metadata": {
    "collapsed": true
   },
   "outputs": [],
   "source": [
    "netComplex = network.Network([784, 30, 30, 10])"
   ]
  },
  {
   "cell_type": "code",
   "execution_count": null,
   "metadata": {
    "collapsed": false
   },
   "outputs": [],
   "source": [
    "netComplex.SGD(training_data, 30, 10, 3.0, test_data=test_data)"
   ]
  },
  {
   "cell_type": "code",
   "execution_count": null,
   "metadata": {
    "collapsed": true
   },
   "outputs": [],
   "source": []
  },
  {
   "cell_type": "code",
   "execution_count": null,
   "metadata": {
    "collapsed": true
   },
   "outputs": [],
   "source": []
  }
 ],
 "metadata": {
  "kernelspec": {
   "display_name": "Python 2",
   "language": "python",
   "name": "python2"
  },
  "language_info": {
   "codemirror_mode": {
    "name": "ipython",
    "version": 2
   },
   "file_extension": ".py",
   "mimetype": "text/x-python",
   "name": "python",
   "nbconvert_exporter": "python",
   "pygments_lexer": "ipython2",
   "version": "2.7.11"
  }
 },
 "nbformat": 4,
 "nbformat_minor": 0
}
