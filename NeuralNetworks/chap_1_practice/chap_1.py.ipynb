{
 "cells": [
  {
   "cell_type": "markdown",
   "metadata": {},
   "source": [
    "I have moved \"modules\" to a subfolder, to separate their usage from exercises that change them"
   ]
  },
  {
   "cell_type": "code",
   "execution_count": 8,
   "metadata": {
    "collapsed": false
   },
   "outputs": [],
   "source": [
    "import sys\n",
    "sys.path.append(\"modules/\")\n",
    "\n",
    "from IPython.core.debugger import Tracer\n",
    "import numpy as np\n",
    "import pandas\n",
    "import mnst_loader\n",
    "import network"
   ]
  },
  {
   "cell_type": "code",
   "execution_count": 9,
   "metadata": {
    "collapsed": false
   },
   "outputs": [],
   "source": [
    "training_data, validation_data, test_data = mnst_loader.load_data_wrapper()"
   ]
  },
  {
   "cell_type": "markdown",
   "metadata": {},
   "source": [
    "Let's check our dimensions"
   ]
  },
  {
   "cell_type": "code",
   "execution_count": 10,
   "metadata": {
    "collapsed": false
   },
   "outputs": [
    {
     "name": "stdout",
     "output_type": "stream",
     "text": [
      "50000\n"
     ]
    }
   ],
   "source": [
    "print len(training_data)"
   ]
  },
  {
   "cell_type": "code",
   "execution_count": 11,
   "metadata": {
    "collapsed": false
   },
   "outputs": [
    {
     "name": "stdout",
     "output_type": "stream",
     "text": [
      "2\n",
      "784\n",
      "10\n"
     ]
    }
   ],
   "source": [
    "print len(training_data[0])\n",
    "print len(training_data[0][0])\n",
    "print (len(training_data[0][1]))"
   ]
  },
  {
   "cell_type": "code",
   "execution_count": 12,
   "metadata": {
    "collapsed": false
   },
   "outputs": [
    {
     "name": "stdout",
     "output_type": "stream",
     "text": [
      "[[ 0.]\n",
      " [ 0.]\n",
      " [ 0.]\n",
      " [ 0.]\n",
      " [ 0.]\n",
      " [ 1.]\n",
      " [ 0.]\n",
      " [ 0.]\n",
      " [ 0.]\n",
      " [ 0.]]\n"
     ]
    },
    {
     "data": {
      "text/plain": [
       "numpy.ndarray"
      ]
     },
     "execution_count": 12,
     "metadata": {},
     "output_type": "execute_result"
    }
   ],
   "source": [
    "print training_data[0][1]\n",
    "type(training_data[0][1])"
   ]
  },
  {
   "cell_type": "markdown",
   "metadata": {},
   "source": [
    "Let's run the original network."
   ]
  },
  {
   "cell_type": "code",
   "execution_count": 13,
   "metadata": {
    "collapsed": true
   },
   "outputs": [],
   "source": [
    "net = network.Network([784, 30, 10])"
   ]
  },
  {
   "cell_type": "code",
   "execution_count": 14,
   "metadata": {
    "collapsed": false
   },
   "outputs": [
    {
     "name": "stdout",
     "output_type": "stream",
     "text": [
      "Epoch 0: 8279 / 10000\n",
      "Epoch 1: 9159 / 10000\n",
      "Epoch 2: 9247 / 10000\n",
      "Epoch 3: 9273 / 10000\n",
      "Epoch 4: 9240 / 10000\n",
      "Epoch 5: 9319 / 10000\n",
      "Epoch 6: 9355 / 10000\n",
      "Epoch 7: 9392 / 10000\n",
      "Epoch 8: 9421 / 10000\n",
      "Epoch 9: 9380 / 10000\n",
      "Epoch 10: 9404 / 10000\n",
      "Epoch 11: 9423 / 10000\n",
      "Epoch 12: 9406 / 10000\n",
      "Epoch 13: 9427 / 10000\n",
      "Epoch 14: 9421 / 10000\n",
      "Epoch 15: 9402 / 10000\n",
      "Epoch 16: 9431 / 10000\n",
      "Epoch 17: 9434 / 10000\n",
      "Epoch 18: 9435 / 10000\n",
      "Epoch 19: 9407 / 10000\n",
      "Epoch 20: 9425 / 10000\n",
      "Epoch 21: 9432 / 10000\n",
      "Epoch 22: 9438 / 10000\n",
      "Epoch 23: 9426 / 10000\n",
      "Epoch 24: 9467 / 10000\n",
      "Epoch 25: 9443 / 10000\n",
      "Epoch 26: 9419 / 10000\n",
      "Epoch 27: 9456 / 10000\n",
      "Epoch 28: 9389 / 10000\n",
      "Epoch 29: 9431 / 10000\n"
     ]
    }
   ],
   "source": [
    "net.SGD(training_data, 30, 10, 3.0, test_data=test_data)"
   ]
  },
  {
   "cell_type": "markdown",
   "metadata": {},
   "source": [
    "*Exercise \"Try creating a network with just two layers\"*"
   ]
  },
  {
   "cell_type": "code",
   "execution_count": 15,
   "metadata": {
    "collapsed": true
   },
   "outputs": [],
   "source": [
    "netSimple = network.Network([784, 10])"
   ]
  },
  {
   "cell_type": "code",
   "execution_count": 16,
   "metadata": {
    "collapsed": false
   },
   "outputs": [
    {
     "name": "stdout",
     "output_type": "stream",
     "text": [
      "Epoch 0: 6395 / 10000\n",
      "Epoch 1: 6553 / 10000\n",
      "Epoch 2: 7795 / 10000\n",
      "Epoch 3: 8324 / 10000\n",
      "Epoch 4: 8347 / 10000\n",
      "Epoch 5: 8340 / 10000\n",
      "Epoch 6: 8357 / 10000\n",
      "Epoch 7: 8344 / 10000\n",
      "Epoch 8: 8385 / 10000\n",
      "Epoch 9: 8352 / 10000\n",
      "Epoch 10: 8375 / 10000\n",
      "Epoch 11: 8359 / 10000\n",
      "Epoch 12: 8382 / 10000\n",
      "Epoch 13: 8381 / 10000\n",
      "Epoch 14: 8385 / 10000\n",
      "Epoch 15: 8389 / 10000\n",
      "Epoch 16: 8383 / 10000\n",
      "Epoch 17: 8382 / 10000\n",
      "Epoch 18: 8368 / 10000\n",
      "Epoch 19: 8330 / 10000\n",
      "Epoch 20: 8381 / 10000\n",
      "Epoch 21: 8374 / 10000\n",
      "Epoch 22: 8369 / 10000\n",
      "Epoch 23: 8373 / 10000\n",
      "Epoch 24: 8385 / 10000\n",
      "Epoch 25: 8376 / 10000\n",
      "Epoch 26: 8377 / 10000\n",
      "Epoch 27: 8383 / 10000\n",
      "Epoch 28: 8399 / 10000\n",
      "Epoch 29: 8399 / 10000\n"
     ]
    }
   ],
   "source": [
    "netSimple.SGD(training_data, 30, 10, 3.0, test_data=test_data)"
   ]
  },
  {
   "cell_type": "markdown",
   "metadata": {},
   "source": [
    "Well, 84% is kinda ok. But worse than original"
   ]
  },
  {
   "cell_type": "markdown",
   "metadata": {},
   "source": [
    "For the sake of it, let's run a network with additional layer (caution, takes 5-10 minutes)"
   ]
  },
  {
   "cell_type": "code",
   "execution_count": 17,
   "metadata": {
    "collapsed": true
   },
   "outputs": [],
   "source": [
    "netComplex = network.Network([784, 30, 30, 10])"
   ]
  },
  {
   "cell_type": "code",
   "execution_count": 18,
   "metadata": {
    "collapsed": false
   },
   "outputs": [
    {
     "name": "stdout",
     "output_type": "stream",
     "text": [
      "Epoch 0: 9124 / 10000\n",
      "Epoch 1: 9247 / 10000\n",
      "Epoch 2: 9323 / 10000\n",
      "Epoch 3: 9325 / 10000\n",
      "Epoch 4: 9374 / 10000\n",
      "Epoch 5: 9426 / 10000\n",
      "Epoch 6: 9419 / 10000\n",
      "Epoch 7: 9411 / 10000\n",
      "Epoch 8: 9414 / 10000\n",
      "Epoch 9: 9461 / 10000\n",
      "Epoch 10: 9458 / 10000\n",
      "Epoch 11: 9444 / 10000\n",
      "Epoch 12: 9492 / 10000\n",
      "Epoch 13: 9496 / 10000\n",
      "Epoch 14: 9503 / 10000\n",
      "Epoch 15: 9513 / 10000\n",
      "Epoch 16: 9503 / 10000\n",
      "Epoch 17: 9488 / 10000\n",
      "Epoch 18: 9525 / 10000\n",
      "Epoch 19: 9513 / 10000\n",
      "Epoch 20: 9516 / 10000\n",
      "Epoch 21: 9507 / 10000\n",
      "Epoch 22: 9487 / 10000\n",
      "Epoch 23: 9519 / 10000\n",
      "Epoch 24: 9519 / 10000\n",
      "Epoch 25: 9534 / 10000\n",
      "Epoch 26: 9529 / 10000\n",
      "Epoch 27: 9543 / 10000\n",
      "Epoch 28: 9535 / 10000\n",
      "Epoch 29: 9515 / 10000\n"
     ]
    }
   ],
   "source": [
    "netComplex.SGD(training_data, 30, 10, 3.0, test_data=test_data)"
   ]
  },
  {
   "cell_type": "markdown",
   "metadata": {
    "collapsed": true
   },
   "source": [
    "Well well, look who hit the maximum somewhere in the 18-th epoch. But we got ourselves 0.95% quality"
   ]
  }
 ],
 "metadata": {
  "kernelspec": {
   "display_name": "Python 2",
   "language": "python",
   "name": "python2"
  },
  "language_info": {
   "codemirror_mode": {
    "name": "ipython",
    "version": 2
   },
   "file_extension": ".py",
   "mimetype": "text/x-python",
   "name": "python",
   "nbconvert_exporter": "python",
   "pygments_lexer": "ipython2",
   "version": "2.7.11"
  }
 },
 "nbformat": 4,
 "nbformat_minor": 0
}
